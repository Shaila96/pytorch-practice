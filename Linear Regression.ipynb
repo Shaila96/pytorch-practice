{
 "cells": [
  {
   "cell_type": "markdown",
   "metadata": {},
   "source": [
    "# Linear Regression\n",
    "\n"
   ]
  },
  {
   "cell_type": "markdown",
   "metadata": {},
   "source": [
    "## 1. Linear Regression Basics\n",
    "\n",
    "- y = ax+b\n",
    "- x independent and y dependent variable\n",
    "- a = slope, b = intersept\n",
    "- a = co-efficient, b = bias/intercept\n",
    "\n",
    "#### Goal of linear regression:\n",
    "- minimize the distance between the point and the line (y=ax+b)\n",
    "\n",
    "#### Note:\n",
    "- Parameters refer to \n",
    "    - co-efficients in Linear Regression\n",
    "    - weights in neural networks"
   ]
  },
  {
   "cell_type": "code",
   "execution_count": null,
   "metadata": {},
   "outputs": [],
   "source": [
    "# For example go through the video 17. Linear Regression Introduction"
   ]
  },
  {
   "cell_type": "markdown",
   "metadata": {},
   "source": [
    "## 2. Building Linear Regression Model\n",
    "\n",
    "#### 2.1 Example\n",
    "- Coefficient, a = 2\n",
    "- Bias/Intercept, b = 1\n",
    "- Equatio, y= 2x+1"
   ]
  },
  {
   "cell_type": "code",
   "execution_count": 74,
   "metadata": {},
   "outputs": [],
   "source": [
    "import numpy as np\n",
    "import matplotlib.pyplot as plt\n",
    "\n",
    "import torch            ## for creating tensors\n",
    "import torch.nn as nn   ## for modeling\n",
    "\n",
    "from torch.autograd import Variable  ## make variable for enable gradients\n",
    "\n",
    "\n",
    "\n"
   ]
  },
  {
   "cell_type": "markdown",
   "metadata": {},
   "source": [
    "#### 2.2 Building dataset"
   ]
  },
  {
   "cell_type": "code",
   "execution_count": 52,
   "metadata": {},
   "outputs": [
    {
     "data": {
      "text/plain": [
       "[0, 1, 2, 3, 4, 5, 6, 7, 8, 9, 10]"
      ]
     },
     "execution_count": 52,
     "metadata": {},
     "output_type": "execute_result"
    }
   ],
   "source": [
    "x_vals = [i for i in range(11)]\n",
    "x_vals"
   ]
  },
  {
   "cell_type": "code",
   "execution_count": 53,
   "metadata": {},
   "outputs": [
    {
     "data": {
      "text/plain": [
       "(11,)"
      ]
     },
     "execution_count": 53,
     "metadata": {},
     "output_type": "execute_result"
    }
   ],
   "source": [
    "# Convert to numpy\n",
    "x_train = np.array(x_vals, dtype=np.float32)\n",
    "x_train.shape"
   ]
  },
  {
   "cell_type": "code",
   "execution_count": 54,
   "metadata": {},
   "outputs": [
    {
     "data": {
      "text/plain": [
       "(11, 1)"
      ]
     },
     "execution_count": 54,
     "metadata": {},
     "output_type": "execute_result"
    }
   ],
   "source": [
    "# IMPORTANT: 2D arr required\n",
    "x_train = x_train.reshape(-1, 1)  # (reshape(-1, 1) means, the second dimension will be 1 and for -1 it will auto calculate the dimension. Check: https://stackoverflow.com/questions/18691084/what-does-1-mean-in-numpy-reshape)\n",
    "x_train.shape"
   ]
  },
  {
   "cell_type": "markdown",
   "metadata": {},
   "source": [
    "##### y = 2x + 1"
   ]
  },
  {
   "cell_type": "code",
   "execution_count": 55,
   "metadata": {},
   "outputs": [
    {
     "data": {
      "text/plain": [
       "[1, 3, 5, 7, 9, 11, 13, 15, 17, 19, 21]"
      ]
     },
     "execution_count": 55,
     "metadata": {},
     "output_type": "execute_result"
    }
   ],
   "source": [
    "y_vals = [2*i+1 for i in x_vals]\n",
    "y_vals"
   ]
  },
  {
   "cell_type": "code",
   "execution_count": 56,
   "metadata": {},
   "outputs": [
    {
     "data": {
      "text/plain": [
       "array([[ 1.],\n",
       "       [ 3.],\n",
       "       [ 5.],\n",
       "       [ 7.],\n",
       "       [ 9.],\n",
       "       [11.],\n",
       "       [13.],\n",
       "       [15.],\n",
       "       [17.],\n",
       "       [19.],\n",
       "       [21.]], dtype=float32)"
      ]
     },
     "execution_count": 56,
     "metadata": {},
     "output_type": "execute_result"
    }
   ],
   "source": [
    "y_train = np.array(y_vals, dtype=np.float32)\n",
    "y_train = y_train.reshape(-1, 1)\n",
    "y_train"
   ]
  },
  {
   "cell_type": "markdown",
   "metadata": {},
   "source": [
    "#### 2.3 Building model\n",
    "\n",
    "###### Linear model\n",
    "- Equation: y= 2x + 1\n",
    "\n",
    "\n",
    "###### Forward\n",
    "- Example\n",
    "    - Input, x = 1\n",
    "    - Output, y<sup>^</sup> = ?"
   ]
  },
  {
   "cell_type": "code",
   "execution_count": 57,
   "metadata": {},
   "outputs": [],
   "source": [
    "# Create class\n",
    "class LinearRegressionModel(nn.Module):\n",
    "    def __init__(self, input_size, output_size):\n",
    "        super(LinearRegressionModel, self).__init__() # inherit everything from nn.Module\n",
    "        self.linear = nn.Linear(input_dim, output_dim)\n",
    "        \n",
    "    def forward(self, x):\n",
    "        out = self.linear(x)\n",
    "        return(out)\n",
    "    \n",
    "    "
   ]
  },
  {
   "cell_type": "markdown",
   "metadata": {},
   "source": [
    "#### Instantiate Model Class\n",
    "- input: [0, 1 .... 10]\n",
    "- expected output: [1, 3 ..... 21]"
   ]
  },
  {
   "cell_type": "code",
   "execution_count": 1,
   "metadata": {},
   "outputs": [
    {
     "ename": "NameError",
     "evalue": "name 'LinearRegressionModel' is not defined",
     "output_type": "error",
     "traceback": [
      "\u001b[0;31m---------------------------------------------------------------------------\u001b[0m",
      "\u001b[0;31mNameError\u001b[0m                                 Traceback (most recent call last)",
      "\u001b[0;32m<ipython-input-1-042255b781e3>\u001b[0m in \u001b[0;36m<module>\u001b[0;34m\u001b[0m\n\u001b[1;32m      2\u001b[0m \u001b[0moutput_dim\u001b[0m \u001b[0;34m=\u001b[0m \u001b[0;36m1\u001b[0m\u001b[0;34m\u001b[0m\u001b[0;34m\u001b[0m\u001b[0m\n\u001b[1;32m      3\u001b[0m \u001b[0;34m\u001b[0m\u001b[0m\n\u001b[0;32m----> 4\u001b[0;31m \u001b[0mmodel\u001b[0m \u001b[0;34m=\u001b[0m \u001b[0mLinearRegressionModel\u001b[0m\u001b[0;34m(\u001b[0m\u001b[0minput_dim\u001b[0m\u001b[0;34m,\u001b[0m \u001b[0moutput_dim\u001b[0m\u001b[0;34m)\u001b[0m\u001b[0;34m\u001b[0m\u001b[0;34m\u001b[0m\u001b[0m\n\u001b[0m",
      "\u001b[0;31mNameError\u001b[0m: name 'LinearRegressionModel' is not defined"
     ]
    }
   ],
   "source": [
    "input_dim = 1\n",
    "output_dim = 1\n",
    "\n",
    "model = LinearRegressionModel(input_dim, output_dim)"
   ]
  },
  {
   "cell_type": "markdown",
   "metadata": {},
   "source": [
    "#### Instantiate Loss Class\n",
    "- MSE Loss: Mean Squared Error\n",
    "- 1/n(sum(y<sup>^</sup> - y)) --> check video or google for exact equation\n",
    "- Reason to use it for minimizing the distance between the point and the linear regression line\n",
    "\n",
    "\n",
    "#### Cost Function/Loss Function/Optimizer\n",
    "- A loss function tells us \"How Good\" our model is making predictions for a given set of parameters.\n",
    "\n",
    "#### Gradient Descent\n",
    "- An optimization algorithm used to get the minimum of the function, by iteratively moving to the direction of steepest descent by the negative of the gradient. "
   ]
  },
  {
   "cell_type": "code",
   "execution_count": 59,
   "metadata": {},
   "outputs": [],
   "source": [
    "criterion = nn.MSELoss()"
   ]
  },
  {
   "cell_type": "markdown",
   "metadata": {},
   "source": [
    "#### Instantiate Optimizer Class\n",
    "\n",
    "###### simpler equation\n",
    "- parameters = parameters - learning_rate * parameters_gradients\n",
    "    - parameters: a and b in y=ax+b\n",
    "    - desired parameters: a=2 and b=1 in y=2x+1\n",
    "\n",
    "###### What is the purpose fo the optimizer class\n",
    "- Update the model's parameter at every iteration\n",
    "- So that, we can get a better model to do the predictions\n",
    "    \n",
    "    \n",
    "###### Need more clarification?\n",
    "- Check at 11.00 min of the 18.Linear Regression video\n",
    "    "
   ]
  },
  {
   "cell_type": "code",
   "execution_count": 60,
   "metadata": {},
   "outputs": [],
   "source": [
    "learning_rate=0.01 # How fast we want the model to learn\n",
    "\n",
    "optimizer=torch.optim.SGD(model.parameters(), lr=learning_rate) # SGD is method of optimization, you need to use appropriate one for the specific data model"
   ]
  },
  {
   "cell_type": "markdown",
   "metadata": {},
   "source": [
    "#### Train model\n",
    "- 1 epoch: going through the whole x_train data once\n",
    "    - 100 epochs:\n",
    "        - 100x mapping x_train = [0, 1....10]\n",
    "- Process\n",
    "    - Convert inputs/labels to variables\n",
    "    - Clear gradient buffets\n",
    "    - Get output given inputs\n",
    "    - Get loss\n",
    "    - Get gradients w.r.t. parameters\n",
    "    - Update parameters using gradients\n",
    "        - parameters = parameters - learning_rate * parameters_gradients\n",
    "    - REPEAT"
   ]
  },
  {
   "cell_type": "code",
   "execution_count": 61,
   "metadata": {},
   "outputs": [
    {
     "name": "stdout",
     "output_type": "stream",
     "text": [
      "epoch: 1, loss: 317.64117431640625\n",
      "epoch: 2, loss: 25.90899658203125\n",
      "epoch: 3, loss: 2.113327980041504\n",
      "epoch: 4, loss: 0.17238858342170715\n",
      "epoch: 5, loss: 0.014072440564632416\n",
      "epoch: 6, loss: 0.0011590584181249142\n",
      "epoch: 7, loss: 0.00010563599789747968\n",
      "epoch: 8, loss: 1.9572858946048655e-05\n",
      "epoch: 9, loss: 1.2428176887624431e-05\n",
      "epoch: 10, loss: 1.1726707271009218e-05\n",
      "epoch: 11, loss: 1.1547555004653987e-05\n",
      "epoch: 12, loss: 1.1415416338422801e-05\n",
      "epoch: 13, loss: 1.1287880624877289e-05\n",
      "epoch: 14, loss: 1.1162272130604833e-05\n",
      "epoch: 15, loss: 1.1038300726795569e-05\n",
      "epoch: 16, loss: 1.0914421181951184e-05\n",
      "epoch: 17, loss: 1.079242974810768e-05\n",
      "epoch: 18, loss: 1.0672162716218736e-05\n",
      "epoch: 19, loss: 1.0552580533840228e-05\n",
      "epoch: 20, loss: 1.0434920113766566e-05\n",
      "epoch: 21, loss: 1.0317841770302039e-05\n",
      "epoch: 22, loss: 1.0204078535025474e-05\n",
      "epoch: 23, loss: 1.00901052064728e-05\n",
      "epoch: 24, loss: 9.976291039492935e-06\n",
      "epoch: 25, loss: 9.865040738077369e-06\n",
      "epoch: 26, loss: 9.755302016856149e-06\n",
      "epoch: 27, loss: 9.646115358918905e-06\n",
      "epoch: 28, loss: 9.538912308926228e-06\n",
      "epoch: 29, loss: 9.432506885787006e-06\n",
      "epoch: 30, loss: 9.32691455091117e-06\n",
      "epoch: 31, loss: 9.222114385920577e-06\n",
      "epoch: 32, loss: 9.119693459069822e-06\n",
      "epoch: 33, loss: 9.018211130751297e-06\n",
      "epoch: 34, loss: 8.917432751331944e-06\n",
      "epoch: 35, loss: 8.818649803288281e-06\n",
      "epoch: 36, loss: 8.719687684788369e-06\n",
      "epoch: 37, loss: 8.622239874966908e-06\n",
      "epoch: 38, loss: 8.525438715878408e-06\n",
      "epoch: 39, loss: 8.429237823293079e-06\n",
      "epoch: 40, loss: 8.335810889548156e-06\n",
      "epoch: 41, loss: 8.242898729804438e-06\n",
      "epoch: 42, loss: 8.150698704412207e-06\n",
      "epoch: 43, loss: 8.061118933255784e-06\n",
      "epoch: 44, loss: 7.970636033860501e-06\n",
      "epoch: 45, loss: 7.882028512540273e-06\n",
      "epoch: 46, loss: 7.792968972353265e-06\n",
      "epoch: 47, loss: 7.706064934609458e-06\n",
      "epoch: 48, loss: 7.621208624186693e-06\n",
      "epoch: 49, loss: 7.534938504250022e-06\n",
      "epoch: 50, loss: 7.450717930623796e-06\n",
      "epoch: 51, loss: 7.3672285907377955e-06\n",
      "epoch: 52, loss: 7.2853958954510745e-06\n",
      "epoch: 53, loss: 7.204283519968158e-06\n",
      "epoch: 54, loss: 7.122666829673108e-06\n",
      "epoch: 55, loss: 7.043960522423731e-06\n",
      "epoch: 56, loss: 6.9660959525208455e-06\n",
      "epoch: 57, loss: 6.886933988425881e-06\n",
      "epoch: 58, loss: 6.810551894886885e-06\n",
      "epoch: 59, loss: 6.7335990934225265e-06\n",
      "epoch: 60, loss: 6.6587399487616494e-06\n",
      "epoch: 61, loss: 6.58398221276002e-06\n",
      "epoch: 62, loss: 6.51084019409609e-06\n",
      "epoch: 63, loss: 6.438209311454557e-06\n",
      "epoch: 64, loss: 6.366088200593367e-06\n",
      "epoch: 65, loss: 6.295270850387169e-06\n",
      "epoch: 66, loss: 6.225221568456618e-06\n",
      "epoch: 67, loss: 6.156069048302015e-06\n",
      "epoch: 68, loss: 6.086552730266703e-06\n",
      "epoch: 69, loss: 6.019115517119644e-06\n",
      "epoch: 70, loss: 5.951746061327867e-06\n",
      "epoch: 71, loss: 5.886103735974757e-06\n",
      "epoch: 72, loss: 5.819985290145269e-06\n",
      "epoch: 73, loss: 5.754549420089461e-06\n",
      "epoch: 74, loss: 5.690073976438725e-06\n",
      "epoch: 75, loss: 5.627151040243916e-06\n",
      "epoch: 76, loss: 5.564056209550472e-06\n",
      "epoch: 77, loss: 5.501701707544271e-06\n",
      "epoch: 78, loss: 5.440252152766334e-06\n",
      "epoch: 79, loss: 5.379819413064979e-06\n",
      "epoch: 80, loss: 5.320112450135639e-06\n",
      "epoch: 81, loss: 5.260388206806965e-06\n",
      "epoch: 82, loss: 5.201047315495089e-06\n",
      "epoch: 83, loss: 5.1437723413982894e-06\n",
      "epoch: 84, loss: 5.086076271254569e-06\n",
      "epoch: 85, loss: 5.029445219406625e-06\n",
      "epoch: 86, loss: 4.973411250830395e-06\n",
      "epoch: 87, loss: 4.9178238441527355e-06\n",
      "epoch: 88, loss: 4.862495643465081e-06\n",
      "epoch: 89, loss: 4.8080000851769e-06\n",
      "epoch: 90, loss: 4.753724624606548e-06\n",
      "epoch: 91, loss: 4.700195404439e-06\n",
      "epoch: 92, loss: 4.648427875508787e-06\n",
      "epoch: 93, loss: 4.596580311044818e-06\n",
      "epoch: 94, loss: 4.545323008642299e-06\n",
      "epoch: 95, loss: 4.495248049352085e-06\n",
      "epoch: 96, loss: 4.445043487066869e-06\n",
      "epoch: 97, loss: 4.395062205730937e-06\n",
      "epoch: 98, loss: 4.345850356912706e-06\n",
      "epoch: 99, loss: 4.297543455322739e-06\n",
      "epoch: 100, loss: 4.250202437106054e-06\n"
     ]
    }
   ],
   "source": [
    "epochs = 100\n",
    "\n",
    "for epoch in range(epochs):\n",
    "     # Convert numpy array to torch Variable\n",
    "    inputs = Variable(torch.from_numpy(x_train))\n",
    "    labels = Variable(torch.from_numpy(y_train)) # actual/true output\n",
    "    \n",
    "    # Clear gradients w.r.t. parameters\n",
    "    optimizer.zero_grad()\n",
    "    \n",
    "    # Forward to get output\n",
    "    # This output is based on the parameters we have\n",
    "    outputs = model(inputs) # predicted output\n",
    "    \n",
    "    # Calculate loss\n",
    "    # We need to know the loss to update the gradients\n",
    "    loss = criterion(outputs, labels) # scalar loss\n",
    "    \n",
    "    # Getting gradients w.r.t parameters\n",
    "    # Based on the scalar loss, we calculate the gradients (based on learning rate also)\n",
    "    loss.backward()\n",
    "    \n",
    "    # Updating parameters\n",
    "    # From the loss and newly calculated gradients we get the parameters for next epoch\n",
    "    optimizer.step() \n",
    "    \n",
    "    \n",
    "    \n",
    "    ##--------------------------------------------------------------------------\n",
    "    ## WHY ARE NOT WE CLEARING THE GRADIENTS AT THE END? WHY AT THE BEGINING??\n",
    "    ##--------------------------------------------------------------------------\n",
    "    ## Clear gradients w.r.t. parameters\n",
    "    ##  optimizer.zero_grad()\n",
    "    ##--------------------------------------------------------------------------\n",
    "    \n",
    "    \n",
    "    \n",
    "    print('epoch: {}, loss: {}'.format(epoch+1, loss.data))\n",
    "    \n",
    "    "
   ]
  },
  {
   "cell_type": "markdown",
   "metadata": {},
   "source": [
    "#### Compare data"
   ]
  },
  {
   "cell_type": "code",
   "execution_count": 64,
   "metadata": {
    "scrolled": true
   },
   "outputs": [
    {
     "data": {
      "text/plain": [
       "array([[ 1.0038348],\n",
       "       [ 3.0032825],\n",
       "       [ 5.0027304],\n",
       "       [ 7.0021777],\n",
       "       [ 9.001626 ],\n",
       "       [11.001073 ],\n",
       "       [13.000521 ],\n",
       "       [14.999969 ],\n",
       "       [16.999416 ],\n",
       "       [18.998865 ],\n",
       "       [20.998312 ]], dtype=float32)"
      ]
     },
     "execution_count": 64,
     "metadata": {},
     "output_type": "execute_result"
    }
   ],
   "source": [
    "predicted = model(Variable(torch.from_numpy(x_train))).data.numpy()\n",
    "predicted"
   ]
  },
  {
   "cell_type": "code",
   "execution_count": 65,
   "metadata": {},
   "outputs": [
    {
     "data": {
      "text/plain": [
       "array([[ 1.],\n",
       "       [ 3.],\n",
       "       [ 5.],\n",
       "       [ 7.],\n",
       "       [ 9.],\n",
       "       [11.],\n",
       "       [13.],\n",
       "       [15.],\n",
       "       [17.],\n",
       "       [19.],\n",
       "       [21.]], dtype=float32)"
      ]
     },
     "execution_count": 65,
     "metadata": {},
     "output_type": "execute_result"
    }
   ],
   "source": [
    "# y = 2x + 1\n",
    "y_train"
   ]
  },
  {
   "cell_type": "markdown",
   "metadata": {},
   "source": [
    "#### Plot graph"
   ]
  },
  {
   "cell_type": "code",
   "execution_count": 72,
   "metadata": {},
   "outputs": [
    {
     "data": {
      "image/png": "[encoded data removed]",
      "text/plain": [
       "<Figure size 432x288 with 1 Axes>"
      ]
     },
     "metadata": {
      "needs_background": "light"
     },
     "output_type": "display_data"
    }
   ],
   "source": [
    "# Clear figures\n",
    "plt.clf()\n",
    "\n",
    "# Get predictions\n",
    "predicted = model(Variable(torch.from_numpy(x_train))).data.numpy()\n",
    "\n",
    "# Plot the true data\n",
    "plt.plot(x_train, y_train, 'go', label='True Data', alpha=0.5)\n",
    "\n",
    "# Plot the predicted data\n",
    "plt.plot(x_train, predicted, '--', label='Predictions', alpha=0.5)\n",
    "\n",
    "\n",
    "# Plotting\n",
    "plt.legend(loc='best')\n",
    "plt.show()"
   ]
  },
  {
   "cell_type": "markdown",
   "metadata": {},
   "source": [
    "#### Save model"
   ]
  },
  {
   "cell_type": "code",
   "execution_count": 73,
   "metadata": {},
   "outputs": [],
   "source": [
    "# Remove the first 2 lines when you really want to save the model\n",
    "save_model = False\n",
    "if save_model is True:\n",
    "    # Saves only the parameters (a and b)\n",
    "    torch.save(model.state_dict(), 'linear_model.pkl')"
   ]
  },
  {
   "cell_type": "markdown",
   "metadata": {},
   "source": [
    "#### Load model"
   ]
  },
  {
   "cell_type": "code",
   "execution_count": null,
   "metadata": {},
   "outputs": [],
   "source": [
    "# Remove the first 2 lines when you really want to load the model\n",
    "load_model = False\n",
    "if load_model is True:\n",
    "    model.load_state_dict(torch.load(linear_model.pkl))"
   ]
  }
 ],
 "metadata": {
  "kernelspec": {
   "display_name": "Python 3",
   "language": "python",
   "name": "python3"
  },
  "language_info": {
   "codemirror_mode": {
    "name": "ipython",
    "version": 3
   },
   "file_extension": ".py",
   "mimetype": "text/x-python",
   "name": "python",
   "nbconvert_exporter": "python",
   "pygments_lexer": "ipython3",
   "version": "3.7.3"
  }
 },
 "nbformat": 4,
 "nbformat_minor": 2
}
